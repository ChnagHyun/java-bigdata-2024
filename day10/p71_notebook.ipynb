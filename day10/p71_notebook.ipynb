{
 "cells": [
  {
   "cell_type": "markdown",
   "metadata": {},
   "source": [
    "## 주피터 노트북 시작\n",
    "\n",
    "- 주피터 노트북 사용법 학습\n",
    "    1. VS Code > Ctrl+Shift+P(명령 팔레트) > Create : 새 Jupyter Notebook 선택\n",
    "    2. 반드시 최초 저장\n",
    "    3. 마크다운 셀, 코드 셀 확인"
   ]
  },
  {
   "cell_type": "code",
   "execution_count": 1,
   "metadata": {},
   "outputs": [
    {
     "name": "stdout",
     "output_type": "stream",
     "text": [
      "Hello, JupyterNotebook!!\n"
     ]
    }
   ],
   "source": [
    "print('Hello, JupyterNotebook!!')"
   ]
  },
  {
   "cell_type": "markdown",
   "metadata": {},
   "source": [
    "### 주피터 노트북 단축키\n",
    "- 필수 단축키\n",
    "    - Ctrl + Enter : (셀 내부)마크다운 셀은 닫기, 코드 셀은 실행\n",
    "    - Shift + Enter : (셀 내부)Ctrl + Enter 기능 + 현재와 같은 셀을 추가(단, 셀들 사이에서는 동작 안함)\n",
    "    - b : (현재 셀 외부 위치) 뒤쪽에 코드 셀 추가\n",
    "    - a : (현재 셀 외부 위치) 앞쪽에 코드 셀 추가\n",
    "    - Shift + L : (셀 밖에서)라인넘버 토글\n",
    "- 옵션 단축키\n"
   ]
  }
 ],
 "metadata": {
  "kernelspec": {
   "display_name": "Python 3",
   "language": "python",
   "name": "python3"
  },
  "language_info": {
   "codemirror_mode": {
    "name": "ipython",
    "version": 3
   },
   "file_extension": ".py",
   "mimetype": "text/x-python",
   "name": "python",
   "nbconvert_exporter": "python",
   "pygments_lexer": "ipython3",
   "version": "3.12.2"
  }
 },
 "nbformat": 4,
 "nbformat_minor": 2
}
