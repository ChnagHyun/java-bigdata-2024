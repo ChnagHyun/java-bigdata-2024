{
 "cells": [
  {
   "cell_type": "markdown",
   "metadata": {},
   "source": [
    "## 1번 문제"
   ]
  },
  {
   "cell_type": "code",
   "execution_count": 133,
   "metadata": {},
   "outputs": [
    {
     "name": "stdout",
     "output_type": "stream",
     "text": [
      "남성\n"
     ]
    }
   ],
   "source": [
    "number = input('(-)를 포함하여 주민번호 작성해주세요.')\n",
    "if (len(number)) != 14:\n",
    "    print ('다시 입력해주세요.')\n",
    "else : \n",
    "    if number [7] in ['1','3','5']:\n",
    "        print ('남성')\n",
    "    elif number [7] in ['2','4','6']:\n",
    "        print ('여성')"
   ]
  },
  {
   "cell_type": "markdown",
   "metadata": {},
   "source": [
    "## 2번 문제"
   ]
  },
  {
   "cell_type": "code",
   "execution_count": 107,
   "metadata": {},
   "outputs": [
    {
     "name": "stdout",
     "output_type": "stream",
     "text": [
      "다시 입력\n"
     ]
    }
   ],
   "source": [
    "import datetime\n",
    "\n",
    "now = datetime.datetime.now()\n",
    "\n",
    "Time = now.weekday()\n",
    "\n",
    "Time = {\n",
    "    'MON': '월요일', 'TUE': '화요일', 'WED': '수요일',\n",
    "    'THU': '목요일', 'FRI': '금요일', 'SAT': '토요일', 'SUN': '일요일'\n",
    "}\n",
    "\n",
    "DayEng = input('요일 입력').upper()\n",
    "\n",
    "Day = Time.get(DayEng)\n",
    "\n",
    "if Day is None:\n",
    "    print('다시 입력')\n",
    "else:\n",
    "    print(f'오늘은 {Day}입니다.')"
   ]
  },
  {
   "cell_type": "markdown",
   "metadata": {},
   "source": [
    "## 3번 문제"
   ]
  },
  {
   "cell_type": "code",
   "execution_count": 32,
   "metadata": {},
   "outputs": [
    {
     "name": "stdout",
     "output_type": "stream",
     "text": [
      "어서옵쇼, 손님!!\n"
     ]
    }
   ],
   "source": [
    "age = int(input('나이를 입력하세요: '))\n",
    "\n",
    "if age < 19:\n",
    "  print('애들은 가라.')\n",
    "else:\n",
    "  print('어서옵쇼, 손님!!')"
   ]
  },
  {
   "cell_type": "markdown",
   "metadata": {},
   "source": [
    "## 4번 문제"
   ]
  },
  {
   "cell_type": "code",
   "execution_count": 118,
   "metadata": {},
   "outputs": [],
   "source": [
    "with open('result.txt', 'w') as f:\n",
    "  num = 1\n",
    "  while num <= 1000:\n",
    "    if num % 3 == 0 or num % 5 == 0:\n",
    "      \n",
    "      f.write(str(num) + '\\n')\n",
    "    \n",
    "    num += 1"
   ]
  },
  {
   "cell_type": "markdown",
   "metadata": {},
   "source": [
    "## 5번 문제"
   ]
  },
  {
   "cell_type": "code",
   "execution_count": 123,
   "metadata": {},
   "outputs": [
    {
     "name": "stdout",
     "output_type": "stream",
     "text": [
      "2024\\03%07 11**32//27\n"
     ]
    }
   ],
   "source": [
    "import datetime\n",
    "\n",
    "curr = datetime.datetime.now()\n",
    "print(f\"{curr.year}\\\\{curr.month:02d}%{curr.day:02d} {curr.hour:02d}**{curr.minute:02d}//{curr.second:02d}\")"
   ]
  }
 ],
 "metadata": {
  "kernelspec": {
   "display_name": "Python 3",
   "language": "python",
   "name": "python3"
  },
  "language_info": {
   "codemirror_mode": {
    "name": "ipython",
    "version": 3
   },
   "file_extension": ".py",
   "mimetype": "text/x-python",
   "name": "python",
   "nbconvert_exporter": "python",
   "pygments_lexer": "ipython3",
   "version": "3.12.2"
  }
 },
 "nbformat": 4,
 "nbformat_minor": 2
}
